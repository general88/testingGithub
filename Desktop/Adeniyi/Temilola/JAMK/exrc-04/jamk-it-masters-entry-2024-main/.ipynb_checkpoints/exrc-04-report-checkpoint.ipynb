{
 "cells": [
  {
   "cell_type": "code",
   "execution_count": 2,
   "id": "1c30e5f5",
   "metadata": {},
   "outputs": [
    {
     "name": "stdout",
     "output_type": "stream",
     "text": [
      "No temperature differences available.\n"
     ]
    }
   ],
   "source": [
    "import pandas as pd\n",
    "import numpy as np\n",
    "import subprocess\n",
    "\n",
    "# Decrypting the file using GPG\n",
    "subprocess.run(['gpg', '--output', 'weather_2023-01.csv', '--decrypt', 'weather_2023-01.csv.gpg'])\n",
    "\n",
    "# Loading the weather data\n",
    "weather_data = pd.read_csv('weather_2023-01.csv')\n",
    "\n",
    "# Initiatilising the temperature_column to column name\n",
    "temperature_column = 'ParameterName'\n",
    "\n",
    "# Converting temperature data to numeric values\n",
    "weather_data[temperature_column] = pd.to_numeric(weather_data[temperature_column], errors='coerce')\n",
    "\n",
    "# Dropping the rows with NaN values in the temperature data\n",
    "weather_data.dropna(subset=[temperature_column], inplace=True)\n",
    "\n",
    "# Calculating the temperature differences between maximun and minimum\n",
    "temperature_diff = weather_data.groupby('Time')[temperature_column].apply(lambda x: x.max() - x.min())\n",
    "\n",
    "# Calculating the average and standard deviation of temperature differences\n",
    "avg_temperature_diff = temperature_diff.mean()\n",
    "std_temperature_diff = temperature_diff.std()\n",
    "\n",
    "# Defininig the threshold\n",
    "threshold = avg_temperature_diff + 0.8 * std_temperature_diff\n",
    "\n",
    "# Checking if there are any temperature differences available\n",
    "\n",
    "if len(temperature_diff) == 0:\n",
    "    print(\"No temperature differences available.\")\n",
    "\n",
    "else:\n",
    "    # Filtering the temperature differences that satisfies the condition\n",
    "\n",
    "    satisfying_diffs = temperature_diff[abs(temperature_diff - avg_temperature_diff) <= 0.8 * std_temperature_diff]\n",
    "    \n",
    "    # Calculating the percentage of hourly temperature observations satisfying the condition\n",
    "    \n",
    "    percentage_satisfying = (len(satisfying_diffs) / len(temperature_diff)) * 100\n",
    "    \n",
    "    print(\"Percentage of hourly temperature observations satisfying the condition:\", percentage_satisfying)\n"
   ]
  },
  {
   "cell_type": "markdown",
   "id": "33ac7a3b",
   "metadata": {},
   "source": [
    "#### General thoughts about the process\n",
    "Difficulty level is Advance. The process prepares the intending student for the intensity of the course in the event the student is offered admission to study in JAMK. "
   ]
  },
  {
   "cell_type": "markdown",
   "id": "ee7d973d",
   "metadata": {},
   "source": [
    "#### Links to external material used\n",
    "\n",
    "https://www.youtube.com/watch?v=CmorAWRsCAw&list=PLeo1K3hjS3us_ELKYSj_Fth2tIEkdKXvV&index=26, https://www.youtube.com/watch?v=a8aDcLk4vRc&list=PLeo1K3hjS3us_ELKYSj_Fth2tIEkdKXvV&index=25, https://www.youtube.com/playlist?list=PLeo1K3hjS3us_ELKYSj_Fth2tIEkdKXvV, https://www.youtube.com/watch?v=q_BzsPxwLOE&list=PLeo1K3hjS3us_ELKYSj_Fth2tIEkdKXvV&index=22"
   ]
  },
  {
   "cell_type": "markdown",
   "id": "2552d4b2",
   "metadata": {},
   "source": [
    "### AI Prompt\n",
    "###### https://chat.openai.com/share/55d80716-d437-435e-a5af-6d3c74bd38aa"
   ]
  },
  {
   "cell_type": "code",
   "execution_count": null,
   "id": "988305ca",
   "metadata": {},
   "outputs": [],
   "source": []
  }
 ],
 "metadata": {
  "kernelspec": {
   "display_name": "Python 3 (ipykernel)",
   "language": "python",
   "name": "python3"
  },
  "language_info": {
   "codemirror_mode": {
    "name": "ipython",
    "version": 3
   },
   "file_extension": ".py",
   "mimetype": "text/x-python",
   "name": "python",
   "nbconvert_exporter": "python",
   "pygments_lexer": "ipython3",
   "version": "3.11.5"
  }
 },
 "nbformat": 4,
 "nbformat_minor": 5
}
